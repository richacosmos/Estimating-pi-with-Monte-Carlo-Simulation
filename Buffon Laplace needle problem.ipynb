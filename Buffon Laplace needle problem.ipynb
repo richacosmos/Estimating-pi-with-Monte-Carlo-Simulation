{
 "cells": [
  {
   "cell_type": "code",
   "execution_count": 1,
   "id": "673ac647",
   "metadata": {},
   "outputs": [],
   "source": [
    "import random\n",
    "import math"
   ]
  },
  {
   "cell_type": "markdown",
   "id": "9e7a6d55",
   "metadata": {},
   "source": [
    "As shown in the diagram, a circle with unit radius is inside a square of side 2 unit. If sufficiently large no. of \n",
    "needles are thrown on the square, then the ratio of area of circle to the area of square is equal to the ratio no. of needles fallen on the cicle and sqaure.\n",
    "area of circle/area of square= no. of needles over circle/no. of needles over square. from here \n",
    "pi=4*( no. of needles over circle/no. of needles over square)"
   ]
  },
  {
   "cell_type": "code",
   "execution_count": 23,
   "id": "8d4f103e",
   "metadata": {},
   "outputs": [],
   "source": [
    "throws=1000 #total throws (throws=no. of needles over square)\n",
    "needles_circle=0\n"
   ]
  },
  {
   "cell_type": "code",
   "execution_count": 24,
   "id": "a5a561e0",
   "metadata": {},
   "outputs": [],
   "source": [
    "for i in range(throws):\n",
    "    xpos=random.uniform(-1,1)\n",
    "    ypos=random.uniform(-1,1)\n",
    "    if math.hypot(xpos,ypos) <=1:\n",
    "        needles_circle+=1\n"
   ]
  },
  {
   "cell_type": "code",
   "execution_count": 25,
   "id": "9363bd98",
   "metadata": {},
   "outputs": [
    {
     "name": "stdout",
     "output_type": "stream",
     "text": [
      "788\n"
     ]
    }
   ],
   "source": [
    "print(needles_circle)"
   ]
  },
  {
   "cell_type": "code",
   "execution_count": 27,
   "id": "a5750355",
   "metadata": {},
   "outputs": [
    {
     "name": "stdout",
     "output_type": "stream",
     "text": [
      "the approximate value of pi is 3.152\n"
     ]
    }
   ],
   "source": [
    "print('the approximate value of pi is', 4*(needles_circle/throws))"
   ]
  },
  {
   "cell_type": "code",
   "execution_count": null,
   "id": "5a83284f",
   "metadata": {},
   "outputs": [],
   "source": []
  },
  {
   "cell_type": "code",
   "execution_count": null,
   "id": "31b12a47",
   "metadata": {},
   "outputs": [],
   "source": []
  }
 ],
 "metadata": {
  "kernelspec": {
   "display_name": "Python 3 (ipykernel)",
   "language": "python",
   "name": "python3"
  },
  "language_info": {
   "codemirror_mode": {
    "name": "ipython",
    "version": 3
   },
   "file_extension": ".py",
   "mimetype": "text/x-python",
   "name": "python",
   "nbconvert_exporter": "python",
   "pygments_lexer": "ipython3",
   "version": "3.8.8"
  }
 },
 "nbformat": 4,
 "nbformat_minor": 5
}
